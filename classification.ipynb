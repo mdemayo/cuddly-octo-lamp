{
 "cells": [
  {
   "cell_type": "code",
   "execution_count": 43,
   "metadata": {},
   "outputs": [],
   "source": [
    "import pandas as pd # Importing the pandas library for data manipulation and analysis\n",
    "import numpy as np # Importing the numpy library for linear algebra operations\n",
    "import matplotlib.pyplot as plt # Importing matplotlib.pyplot for data visualization\n",
    "import seaborn as sns # Importing seaborn for enhanced data visualization, especially for heatmaps\n",
    "\n",
    "from sklearn.model_selection import train_test_split # Importing train_test_split to split the dataset into training and testing sets\n",
    "from sklearn import metrics # Importing metrics for performance evaluation of the model\n",
    "from sklearn.metrics import confusion_matrix # Importing confusion_matrix to visualize the performance of the classification model"
   ]
  },
  {
   "cell_type": "code",
   "execution_count": 44,
   "metadata": {},
   "outputs": [],
   "source": [
    "# load dataset\n",
    "df = pd.read_csv('customer_churn_dataset-testing-master.csv')"
   ]
  },
  {
   "cell_type": "code",
   "execution_count": 45,
   "metadata": {},
   "outputs": [
    {
     "data": {
      "text/html": [
       "<div>\n",
       "<style scoped>\n",
       "    .dataframe tbody tr th:only-of-type {\n",
       "        vertical-align: middle;\n",
       "    }\n",
       "\n",
       "    .dataframe tbody tr th {\n",
       "        vertical-align: top;\n",
       "    }\n",
       "\n",
       "    .dataframe thead th {\n",
       "        text-align: right;\n",
       "    }\n",
       "</style>\n",
       "<table border=\"1\" class=\"dataframe\">\n",
       "  <thead>\n",
       "    <tr style=\"text-align: right;\">\n",
       "      <th></th>\n",
       "      <th>CustomerID</th>\n",
       "      <th>Age</th>\n",
       "      <th>Gender</th>\n",
       "      <th>Tenure</th>\n",
       "      <th>Usage Frequency</th>\n",
       "      <th>Support Calls</th>\n",
       "      <th>Payment Delay</th>\n",
       "      <th>Subscription Type</th>\n",
       "      <th>Contract Length</th>\n",
       "      <th>Total Spend</th>\n",
       "      <th>Last Interaction</th>\n",
       "      <th>Churn</th>\n",
       "    </tr>\n",
       "  </thead>\n",
       "  <tbody>\n",
       "    <tr>\n",
       "      <th>0</th>\n",
       "      <td>1</td>\n",
       "      <td>22</td>\n",
       "      <td>Female</td>\n",
       "      <td>25</td>\n",
       "      <td>14</td>\n",
       "      <td>4</td>\n",
       "      <td>27</td>\n",
       "      <td>Basic</td>\n",
       "      <td>Monthly</td>\n",
       "      <td>598</td>\n",
       "      <td>9</td>\n",
       "      <td>1</td>\n",
       "    </tr>\n",
       "    <tr>\n",
       "      <th>1</th>\n",
       "      <td>2</td>\n",
       "      <td>41</td>\n",
       "      <td>Female</td>\n",
       "      <td>28</td>\n",
       "      <td>28</td>\n",
       "      <td>7</td>\n",
       "      <td>13</td>\n",
       "      <td>Standard</td>\n",
       "      <td>Monthly</td>\n",
       "      <td>584</td>\n",
       "      <td>20</td>\n",
       "      <td>0</td>\n",
       "    </tr>\n",
       "    <tr>\n",
       "      <th>2</th>\n",
       "      <td>3</td>\n",
       "      <td>47</td>\n",
       "      <td>Male</td>\n",
       "      <td>27</td>\n",
       "      <td>10</td>\n",
       "      <td>2</td>\n",
       "      <td>29</td>\n",
       "      <td>Premium</td>\n",
       "      <td>Annual</td>\n",
       "      <td>757</td>\n",
       "      <td>21</td>\n",
       "      <td>0</td>\n",
       "    </tr>\n",
       "    <tr>\n",
       "      <th>3</th>\n",
       "      <td>4</td>\n",
       "      <td>35</td>\n",
       "      <td>Male</td>\n",
       "      <td>9</td>\n",
       "      <td>12</td>\n",
       "      <td>5</td>\n",
       "      <td>17</td>\n",
       "      <td>Premium</td>\n",
       "      <td>Quarterly</td>\n",
       "      <td>232</td>\n",
       "      <td>18</td>\n",
       "      <td>0</td>\n",
       "    </tr>\n",
       "    <tr>\n",
       "      <th>4</th>\n",
       "      <td>5</td>\n",
       "      <td>53</td>\n",
       "      <td>Female</td>\n",
       "      <td>58</td>\n",
       "      <td>24</td>\n",
       "      <td>9</td>\n",
       "      <td>2</td>\n",
       "      <td>Standard</td>\n",
       "      <td>Annual</td>\n",
       "      <td>533</td>\n",
       "      <td>18</td>\n",
       "      <td>0</td>\n",
       "    </tr>\n",
       "  </tbody>\n",
       "</table>\n",
       "</div>"
      ],
      "text/plain": [
       "   CustomerID  Age  Gender  Tenure  Usage Frequency  Support Calls  \\\n",
       "0           1   22  Female      25               14              4   \n",
       "1           2   41  Female      28               28              7   \n",
       "2           3   47    Male      27               10              2   \n",
       "3           4   35    Male       9               12              5   \n",
       "4           5   53  Female      58               24              9   \n",
       "\n",
       "   Payment Delay Subscription Type Contract Length  Total Spend  \\\n",
       "0             27             Basic         Monthly          598   \n",
       "1             13          Standard         Monthly          584   \n",
       "2             29           Premium          Annual          757   \n",
       "3             17           Premium       Quarterly          232   \n",
       "4              2          Standard          Annual          533   \n",
       "\n",
       "   Last Interaction  Churn  \n",
       "0                 9      1  \n",
       "1                20      0  \n",
       "2                21      0  \n",
       "3                18      0  \n",
       "4                18      0  "
      ]
     },
     "execution_count": 45,
     "metadata": {},
     "output_type": "execute_result"
    }
   ],
   "source": [
    "# show dataset\n",
    "df.head(5)"
   ]
  },
  {
   "cell_type": "code",
   "execution_count": 46,
   "metadata": {},
   "outputs": [
    {
     "data": {
      "text/plain": [
       "CustomerID           0\n",
       "Age                  0\n",
       "Gender               0\n",
       "Tenure               0\n",
       "Usage Frequency      0\n",
       "Support Calls        0\n",
       "Payment Delay        0\n",
       "Subscription Type    0\n",
       "Contract Length      0\n",
       "Total Spend          0\n",
       "Last Interaction     0\n",
       "Churn                0\n",
       "dtype: int64"
      ]
     },
     "execution_count": 46,
     "metadata": {},
     "output_type": "execute_result"
    }
   ],
   "source": [
    "#check empty values\n",
    "df.isna().sum()"
   ]
  },
  {
   "cell_type": "code",
   "execution_count": 47,
   "metadata": {},
   "outputs": [],
   "source": [
    "from sklearn.preprocessing import LabelEncoder # some values are not numerical so we need to make them numerical \n",
    "\n",
    "feat_encoder = LabelEncoder()"
   ]
  },
  {
   "cell_type": "code",
   "execution_count": 48,
   "metadata": {},
   "outputs": [
    {
     "name": "stdout",
     "output_type": "stream",
     "text": [
      "Index(['Gender', 'Subscription Type', 'Contract Length'], dtype='object')\n"
     ]
    }
   ],
   "source": [
    "cat_feats = df.select_dtypes(include=['object']).columns # Get categorical columns\n",
    "print(cat_feats)"
   ]
  },
  {
   "cell_type": "code",
   "execution_count": 49,
   "metadata": {},
   "outputs": [],
   "source": [
    "# Loop through each categorical feature in the 'cat_feats' list\n",
    "for cat in cat_feats:\n",
    "\n",
    "  # Apply the LabelEncoder to transform the categorical column 'cat' into numeric labels.\n",
    "  df[cat] = feat_encoder.fit_transform(df[cat].astype(str))"
   ]
  },
  {
   "cell_type": "code",
   "execution_count": 50,
   "metadata": {},
   "outputs": [
    {
     "data": {
      "text/html": [
       "<div>\n",
       "<style scoped>\n",
       "    .dataframe tbody tr th:only-of-type {\n",
       "        vertical-align: middle;\n",
       "    }\n",
       "\n",
       "    .dataframe tbody tr th {\n",
       "        vertical-align: top;\n",
       "    }\n",
       "\n",
       "    .dataframe thead th {\n",
       "        text-align: right;\n",
       "    }\n",
       "</style>\n",
       "<table border=\"1\" class=\"dataframe\">\n",
       "  <thead>\n",
       "    <tr style=\"text-align: right;\">\n",
       "      <th></th>\n",
       "      <th>CustomerID</th>\n",
       "      <th>Age</th>\n",
       "      <th>Gender</th>\n",
       "      <th>Tenure</th>\n",
       "      <th>Usage Frequency</th>\n",
       "      <th>Support Calls</th>\n",
       "      <th>Payment Delay</th>\n",
       "      <th>Subscription Type</th>\n",
       "      <th>Contract Length</th>\n",
       "      <th>Total Spend</th>\n",
       "      <th>Last Interaction</th>\n",
       "      <th>Churn</th>\n",
       "    </tr>\n",
       "  </thead>\n",
       "  <tbody>\n",
       "    <tr>\n",
       "      <th>0</th>\n",
       "      <td>1</td>\n",
       "      <td>22</td>\n",
       "      <td>0</td>\n",
       "      <td>25</td>\n",
       "      <td>14</td>\n",
       "      <td>4</td>\n",
       "      <td>27</td>\n",
       "      <td>0</td>\n",
       "      <td>1</td>\n",
       "      <td>598</td>\n",
       "      <td>9</td>\n",
       "      <td>1</td>\n",
       "    </tr>\n",
       "    <tr>\n",
       "      <th>1</th>\n",
       "      <td>2</td>\n",
       "      <td>41</td>\n",
       "      <td>0</td>\n",
       "      <td>28</td>\n",
       "      <td>28</td>\n",
       "      <td>7</td>\n",
       "      <td>13</td>\n",
       "      <td>2</td>\n",
       "      <td>1</td>\n",
       "      <td>584</td>\n",
       "      <td>20</td>\n",
       "      <td>0</td>\n",
       "    </tr>\n",
       "    <tr>\n",
       "      <th>2</th>\n",
       "      <td>3</td>\n",
       "      <td>47</td>\n",
       "      <td>1</td>\n",
       "      <td>27</td>\n",
       "      <td>10</td>\n",
       "      <td>2</td>\n",
       "      <td>29</td>\n",
       "      <td>1</td>\n",
       "      <td>0</td>\n",
       "      <td>757</td>\n",
       "      <td>21</td>\n",
       "      <td>0</td>\n",
       "    </tr>\n",
       "    <tr>\n",
       "      <th>3</th>\n",
       "      <td>4</td>\n",
       "      <td>35</td>\n",
       "      <td>1</td>\n",
       "      <td>9</td>\n",
       "      <td>12</td>\n",
       "      <td>5</td>\n",
       "      <td>17</td>\n",
       "      <td>1</td>\n",
       "      <td>2</td>\n",
       "      <td>232</td>\n",
       "      <td>18</td>\n",
       "      <td>0</td>\n",
       "    </tr>\n",
       "    <tr>\n",
       "      <th>4</th>\n",
       "      <td>5</td>\n",
       "      <td>53</td>\n",
       "      <td>0</td>\n",
       "      <td>58</td>\n",
       "      <td>24</td>\n",
       "      <td>9</td>\n",
       "      <td>2</td>\n",
       "      <td>2</td>\n",
       "      <td>0</td>\n",
       "      <td>533</td>\n",
       "      <td>18</td>\n",
       "      <td>0</td>\n",
       "    </tr>\n",
       "  </tbody>\n",
       "</table>\n",
       "</div>"
      ],
      "text/plain": [
       "   CustomerID  Age  Gender  Tenure  Usage Frequency  Support Calls  \\\n",
       "0           1   22       0      25               14              4   \n",
       "1           2   41       0      28               28              7   \n",
       "2           3   47       1      27               10              2   \n",
       "3           4   35       1       9               12              5   \n",
       "4           5   53       0      58               24              9   \n",
       "\n",
       "   Payment Delay  Subscription Type  Contract Length  Total Spend  \\\n",
       "0             27                  0                1          598   \n",
       "1             13                  2                1          584   \n",
       "2             29                  1                0          757   \n",
       "3             17                  1                2          232   \n",
       "4              2                  2                0          533   \n",
       "\n",
       "   Last Interaction  Churn  \n",
       "0                 9      1  \n",
       "1                20      0  \n",
       "2                21      0  \n",
       "3                18      0  \n",
       "4                18      0  "
      ]
     },
     "execution_count": 50,
     "metadata": {},
     "output_type": "execute_result"
    }
   ],
   "source": [
    "df.head(5) # verify change"
   ]
  },
  {
   "cell_type": "code",
   "execution_count": 51,
   "metadata": {},
   "outputs": [],
   "source": [
    "X_columns = ['Age', 'Gender', 'Tenure', 'Usage Frequency', 'Support Calls', 'Subscription Type', 'Contract Length', 'Total Spend', 'Last Interaction']\n",
    "\n",
    "X = df[X_columns] # take columns we want for training"
   ]
  },
  {
   "cell_type": "code",
   "execution_count": 52,
   "metadata": {},
   "outputs": [],
   "source": [
    "Y = df['Churn'] # take the value we want to predict"
   ]
  },
  {
   "cell_type": "code",
   "execution_count": 53,
   "metadata": {},
   "outputs": [],
   "source": [
    "from sklearn.model_selection import train_test_split\n",
    "\n",
    "# Split the data into training and testing sets\n",
    "# 'test_size=0.7' means 70% of the data will be used for testing, and 30% for training\n",
    "xTrain, xTest, yTrain, yTest = train_test_split(X, Y, test_size=0.7, random_state=42)"
   ]
  },
  {
   "cell_type": "code",
   "execution_count": 54,
   "metadata": {},
   "outputs": [
    {
     "name": "stdout",
     "output_type": "stream",
     "text": [
      "xTrain shape: (19312, 9)\n",
      "xTest shape: (45062, 9)\n",
      "yTrain shape: (19312,)\n",
      "yTest shape: (45062,)\n"
     ]
    }
   ],
   "source": [
    "# Print the shape of the training feature set\n",
    "print(\"xTrain shape:\", xTrain.shape)\n",
    "\n",
    "# Print the shape of the test feature set\n",
    "print(\"xTest shape:\", xTest.shape)\n",
    "\n",
    "# Print the shape of the training target set\n",
    "print(\"yTrain shape:\", yTrain.shape)\n",
    "\n",
    "# Print the shape of the test target set\n",
    "print(\"yTest shape:\", yTest.shape)"
   ]
  },
  {
   "cell_type": "code",
   "execution_count": 55,
   "metadata": {},
   "outputs": [],
   "source": [
    "# Import the RandomForestClassifier from the sklearn.ensemble module\n",
    "\n",
    "from sklearn.ensemble import RandomForestClassifier\n",
    "\n",
    "# Initialize the RandomForestClassifier with the gini index and 100 decision trees. Train\n",
    "# the model, in such a way that allows the trees to grow until all leaves are pure or contain fewer samples than the minimum allowed\n",
    "\n",
    "rf_class = RandomForestClassifier(criterion='gini', n_estimators=100, min_samples_split=2, random_state=42)"
   ]
  },
  {
   "cell_type": "code",
   "execution_count": 56,
   "metadata": {},
   "outputs": [
    {
     "data": {
      "text/plain": [
       "RandomForestClassifier(random_state=42)"
      ]
     },
     "execution_count": 56,
     "metadata": {},
     "output_type": "execute_result"
    }
   ],
   "source": [
    "# Train (fit) the Random Forest model on the training data\n",
    "\n",
    "rf_class.fit(xTrain, yTrain)"
   ]
  },
  {
   "cell_type": "code",
   "execution_count": 57,
   "metadata": {},
   "outputs": [],
   "source": [
    "# Use the trained Random Forest model to predict the species on the test data\n",
    "\n",
    "yHat = rf_class.predict(xTest)"
   ]
  },
  {
   "cell_type": "code",
   "execution_count": 58,
   "metadata": {},
   "outputs": [],
   "source": [
    "# Import performance metrics\n",
    "\n",
    "from sklearn.metrics import accuracy_score"
   ]
  },
  {
   "cell_type": "code",
   "execution_count": 59,
   "metadata": {},
   "outputs": [
    {
     "name": "stdout",
     "output_type": "stream",
     "text": [
      "Accuracy: 0.77\n"
     ]
    }
   ],
   "source": [
    "# Evaluate model performance\n",
    "\n",
    "accuracy = rf_class.score(xTest, yTest)\n",
    "print(f\"Accuracy: {accuracy:.2f}\")"
   ]
  },
  {
   "cell_type": "code",
   "execution_count": 60,
   "metadata": {},
   "outputs": [
    {
     "data": {
      "image/png": "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",
      "text/plain": [
       "<Figure size 800x600 with 1 Axes>"
      ]
     },
     "metadata": {},
     "output_type": "display_data"
    }
   ],
   "source": [
    "from sklearn.metrics import confusion_matrix\n",
    "\n",
    "# Compute the confusion matrix by evaluating yTest and yHat\n",
    "cm = confusion_matrix(yTest, yHat)\n",
    "\n",
    "\n",
    "# Set up the figure size and font scale for better readability\n",
    "plt.figure(figsize=(8,6))\n",
    "sns.set(font_scale=1.2)\n",
    "\n",
    "# Create a sns.heatmap to visualize the confusion matrix\n",
    "sns.heatmap(cm, annot=True, fmt=\"d\", cmap=\"Blues\", cbar=False, linewidths=0.5, linecolor='black')\n",
    "\n",
    "# Add labels and title to the heatmap\n",
    "plt.title('Confusion Matrix', fontsize=16)\n",
    "plt.xlabel('Predicted Label', fontsize=14)\n",
    "plt.ylabel('True Label', fontsize=14)\n",
    "\n",
    "\n",
    "\n",
    "# Show the plot\n",
    "plt.show()"
   ]
  }
 ],
 "metadata": {
  "kernelspec": {
   "display_name": "base",
   "language": "python",
   "name": "python3"
  },
  "language_info": {
   "codemirror_mode": {
    "name": "ipython",
    "version": 3
   },
   "file_extension": ".py",
   "mimetype": "text/x-python",
   "name": "python",
   "nbconvert_exporter": "python",
   "pygments_lexer": "ipython3",
   "version": "3.9.13"
  }
 },
 "nbformat": 4,
 "nbformat_minor": 2
}

{
   "cell_type": "code",
   "execution_count": null,
   "metadata": {},
   "outputs": [],
   "source": [
       "from sklearn.metrics import classification_report\n",
       "report = classification_report(y_test, y_pred)\n",
       "print(\"Reporte de clasificación:\\n\", report)\n"
   ]
}
