{
 "cells": [
  {
   "cell_type": "code",
   "execution_count": 121,
   "metadata": {},
   "outputs": [],
   "source": [
    "import torch\n",
    "import torch.nn as nn\n",
    "import torch.optim as optim\n",
    "from sklearn.metrics import classification_report, accuracy_score\n",
    "from torch.utils.data import DataLoader, TensorDataset\n",
    "import pandas as pd\n",
    "from sklearn.model_selection import train_test_split # Importing train_test_split to split the dataset into training and testing sets"
   ]
  },
  {
   "cell_type": "code",
   "execution_count": 122,
   "metadata": {},
   "outputs": [],
   "source": [
    "device = (\n",
    "    \"cuda\"  # Use \"cuda\" (NVIDIA GPU) if a CUDA-compatible GPU is available on the system.\n",
    "    if torch.cuda.is_available()  # Check if CUDA is available.\n",
    "    else \"mps\"  # Use \"mps\" (Metal Performance Shaders) if running on a macOS device with MPS support.\n",
    "    if torch.backends.mps.is_available()  # Check if MPS is available.\n",
    "    else \"cpu\"  # Default to \"cpu\" if neither CUDA nor MPS is available, meaning the model will run on the CPU.\n",
    ")"
   ]
  },
  {
   "cell_type": "code",
   "execution_count": 123,
   "metadata": {},
   "outputs": [],
   "source": [
    "# load dataset\n",
    "df = pd.read_csv('df_normalized.csv')"
   ]
  },
  {
   "cell_type": "code",
   "execution_count": 124,
   "metadata": {},
   "outputs": [],
   "source": [
    "X_columns = ['Age', 'Gender', 'Tenure', 'Usage Frequency', 'Support Calls', 'Subscription Type', 'Contract Length', 'Total Spend', 'Last Interaction']\n",
    "\n",
    "X = df[X_columns] # take columns we want for training\n",
    "Y = df['Churn'] # take the value we want to predict"
   ]
  },
  {
   "cell_type": "code",
   "execution_count": 125,
   "metadata": {},
   "outputs": [],
   "source": [
    "xTrain,xTest,yTrain,yTest=train_test_split(X,Y,test_size=0.30,random_state=42)"
   ]
  },
  {
   "cell_type": "code",
   "execution_count": 126,
   "metadata": {},
   "outputs": [],
   "source": [
    "xTrainTensor = torch.tensor(xTrain.values, dtype=torch.float32)\n",
    "yTrainTensor = torch.tensor(yTrain.values, dtype=torch.float32)\n",
    "xTestTensor = torch.tensor(xTest.values, dtype=torch.float32)\n",
    "yTestTensor = torch.tensor(yTest.values, dtype=torch.float32)"
   ]
  },
  {
   "cell_type": "code",
   "execution_count": 127,
   "metadata": {},
   "outputs": [],
   "source": [
    "train_dataset = TensorDataset(xTrainTensor, yTrainTensor)\n",
    "test_dataset = TensorDataset(xTestTensor, yTestTensor)\n",
    "train_loader = DataLoader(train_dataset, batch_size=32, shuffle=True)\n",
    "test_loader = DataLoader(test_dataset, batch_size=32, shuffle=False)\n"
   ]
  },
  {
   "cell_type": "code",
   "execution_count": 128,
   "metadata": {},
   "outputs": [
    {
     "name": "stdout",
     "output_type": "stream",
     "text": [
      "X_train shape: torch.Size([353644, 9])\n",
      "y_train shape: torch.Size([353644])\n",
      "train_data length: 353644\n"
     ]
    }
   ],
   "source": [
    "# Print the shape of the `xTrainTensor` tensor, which represents the feature input for training.\n",
    "# The shape is typically `(number_of_samples, number_of_features)`.\n",
    "print(\"X_train shape:\", xTrainTensor.shape)\n",
    "\n",
    "# Print the shape of the `yTrainTensor` tensor, which contains the target labels for training.\n",
    "# The shape is typically `(number_of_samples,)`, where each element corresponds to a label.\n",
    "print(\"y_train shape:\", yTrainTensor.shape)\n",
    "\n",
    "# Print the total number of samples in the `train_data` TensorDataset.\n",
    "# This should match the number of rows in `xTrainTensor` and `yTrainTensor`.\n",
    "print(\"train_data length:\", len(train_dataset))"
   ]
  },
  {
   "cell_type": "code",
   "execution_count": 129,
   "metadata": {},
   "outputs": [],
   "source": [
    "learning_rate = 0.001  # Set the learning rate for the optimizer. This value determines the step size for updating model parameters during training.\n",
    "num_epochs = 20  # Specify the number of training epochs. Each epoch represents one complete pass through the entire training dataset.\n",
    "batch_size = 32  # Define the batch size for the DataLoader. This is the number of samples processed together before updating the model."
   ]
  },
  {
   "cell_type": "code",
   "execution_count": 130,
   "metadata": {},
   "outputs": [],
   "source": [
    "class NeuralNet(nn.Module):\n",
    "    def __init__(self, input_size):\n",
    "        super(NeuralNet, self).__init__()\n",
    "        self.model = nn.Sequential(\n",
    "            nn.Linear(input_size, 128),  # First hidden layer\n",
    "            nn.ReLU(),\n",
    "            nn.Dropout(0.3),\n",
    "            nn.Linear(128, 64),  # Second hidden layer\n",
    "            nn.ReLU(),\n",
    "            nn.Dropout(0.3),\n",
    "            nn.Linear(64, 1),  # Output layer\n",
    "            nn.Sigmoid()  # For binary classification\n",
    "        )\n",
    "\n",
    "    def forward(self, x):\n",
    "        return self.model(x)"
   ]
  },
  {
   "cell_type": "code",
   "execution_count": 131,
   "metadata": {},
   "outputs": [],
   "source": [
    "# Define model parameters\n",
    "\n",
    "# Determine the number of input features for the model.\n",
    "input_size = xTrainTensor.shape[1]\n",
    "model = NeuralNet(input_size)\n",
    "\n",
    "\n"
   ]
  },
  {
   "cell_type": "code",
   "execution_count": 132,
   "metadata": {},
   "outputs": [
    {
     "name": "stdout",
     "output_type": "stream",
     "text": [
      "\n",
      "model Summary:\n",
      "----------------------------------------------------------------\n",
      "        Layer (type)               Output Shape         Param #\n",
      "================================================================\n",
      "            Linear-1                  [-1, 128]           1,280\n",
      "              ReLU-2                  [-1, 128]               0\n",
      "           Dropout-3                  [-1, 128]               0\n",
      "            Linear-4                   [-1, 64]           8,256\n",
      "              ReLU-5                   [-1, 64]               0\n",
      "           Dropout-6                   [-1, 64]               0\n",
      "            Linear-7                    [-1, 1]              65\n",
      "           Sigmoid-8                    [-1, 1]               0\n",
      "================================================================\n",
      "Total params: 9,601\n",
      "Trainable params: 9,601\n",
      "Non-trainable params: 0\n",
      "----------------------------------------------------------------\n",
      "Input size (MB): 0.00\n",
      "Forward/backward pass size (MB): 0.00\n",
      "Params size (MB): 0.04\n",
      "Estimated Total Size (MB): 0.04\n",
      "----------------------------------------------------------------\n"
     ]
    }
   ],
   "source": [
    "from torchsummary import summary  # Import the torchsummary library for model visualization.\n",
    "\n",
    "# Create an instance of the `DeepDenseNLPModel` with the specified input size, hidden size, and number of output classes.\n",
    "# Move the model to the appropriate device (CPU or GPU).\n",
    "nn_model = NeuralNet(input_size=input_size).to(device)\n",
    "\n",
    "# Print the summary of the deep model, specifying the input size for visualization.\n",
    "print(\"\\nmodel Summary:\")\n",
    "summary(nn_model, input_size=(input_size,))"
   ]
  },
  {
   "cell_type": "code",
   "execution_count": 133,
   "metadata": {},
   "outputs": [],
   "source": [
    "# Define the loss function for the classification task.\n",
    "# `CrossEntropyLoss` is a standard loss function for multi-class classification problems.\n",
    "# It calculates the difference between the predicted class probabilities and the true class labels.\n",
    "\n",
    "criterion = nn.BCELoss()"
   ]
  },
  {
   "cell_type": "code",
   "execution_count": 134,
   "metadata": {},
   "outputs": [],
   "source": [
    "# Create an optimizer for the deep residual model.\n",
    "# Configure the Adam optimizer for the deep model, using its parameters.\n",
    "\n",
    "optimizer = optim.Adam(model.parameters(), lr=learning_rate)\n"
   ]
  },
  {
   "cell_type": "code",
   "execution_count": 135,
   "metadata": {},
   "outputs": [
    {
     "name": "stdout",
     "output_type": "stream",
     "text": [
      "Epoch 1/20, Loss: 0.3345, Accuracy: 0.8841\n",
      "Epoch 2/20, Loss: 0.2837, Accuracy: 0.9136\n",
      "Epoch 3/20, Loss: 0.2771, Accuracy: 0.9158\n",
      "Epoch 4/20, Loss: 0.2740, Accuracy: 0.9172\n",
      "Epoch 5/20, Loss: 0.2724, Accuracy: 0.9173\n",
      "Epoch 6/20, Loss: 0.2706, Accuracy: 0.9185\n",
      "Epoch 7/20, Loss: 0.2700, Accuracy: 0.9186\n",
      "Epoch 8/20, Loss: 0.2692, Accuracy: 0.9189\n",
      "Epoch 9/20, Loss: 0.2685, Accuracy: 0.9192\n",
      "Epoch 10/20, Loss: 0.2681, Accuracy: 0.9196\n",
      "Epoch 11/20, Loss: 0.2674, Accuracy: 0.9198\n",
      "Epoch 12/20, Loss: 0.2669, Accuracy: 0.9195\n",
      "Epoch 13/20, Loss: 0.2666, Accuracy: 0.9200\n",
      "Epoch 14/20, Loss: 0.2664, Accuracy: 0.9200\n",
      "Epoch 15/20, Loss: 0.2663, Accuracy: 0.9200\n",
      "Epoch 16/20, Loss: 0.2652, Accuracy: 0.9201\n",
      "Epoch 17/20, Loss: 0.2653, Accuracy: 0.9205\n",
      "Epoch 18/20, Loss: 0.2650, Accuracy: 0.9206\n",
      "Epoch 19/20, Loss: 0.2650, Accuracy: 0.9207\n",
      "Epoch 20/20, Loss: 0.2643, Accuracy: 0.9210\n"
     ]
    }
   ],
   "source": [
    "# Variables to store metrics\n",
    "loss_per_epoch = []\n",
    "accuracy_per_epoch = []\n",
    "\n",
    "# Training Loop\n",
    "for epoch in range(num_epochs):\n",
    "    model.train()\n",
    "    train_loss = 0.0\n",
    "    correct_predictions = 0\n",
    "    total_samples = 0\n",
    "\n",
    "    for X_batch, y_batch in train_loader:\n",
    "        # Forward pass\n",
    "        logits = model(X_batch).squeeze()\n",
    "        \n",
    "        # Compute loss\n",
    "        loss = criterion(logits, y_batch.float())\n",
    "        train_loss += loss.item()\n",
    "\n",
    "        # Backward pass and optimization\n",
    "        optimizer.zero_grad()\n",
    "        loss.backward()\n",
    "        optimizer.step()\n",
    "\n",
    "        # Calculate predictions and accuracy\n",
    "        preds = (logits > 0.5).int()  # Binary classification: Threshold at 0.5\n",
    "        correct_predictions += (preds == y_batch.int()).sum().item()\n",
    "        total_samples += y_batch.size(0)\n",
    "\n",
    "    # Calculate epoch metrics\n",
    "    avg_loss = train_loss / len(train_loader)\n",
    "    epoch_accuracy = correct_predictions / total_samples\n",
    "\n",
    "    # Store metrics\n",
    "    loss_per_epoch.append(avg_loss)\n",
    "    accuracy_per_epoch.append(epoch_accuracy)\n",
    "\n",
    "    print(f\"Epoch {epoch + 1}/{num_epochs}, Loss: {avg_loss:.4f}, Accuracy: {epoch_accuracy:.4f}\")"
   ]
  },
  {
   "cell_type": "code",
   "execution_count": 136,
   "metadata": {},
   "outputs": [
    {
     "name": "stdout",
     "output_type": "stream",
     "text": [
      "Classification Report:\n",
      "              precision    recall  f1-score   support\n",
      "\n",
      "           0       0.96      0.86      0.91     67461\n",
      "           1       0.90      0.97      0.93     84101\n",
      "\n",
      "    accuracy                           0.92    151562\n",
      "   macro avg       0.93      0.92      0.92    151562\n",
      "weighted avg       0.92      0.92      0.92    151562\n",
      "\n",
      "Accuracy: 0.92\n"
     ]
    }
   ],
   "source": [
    "model.eval()\n",
    "y_pred_list = []\n",
    "\n",
    "with torch.no_grad():\n",
    "    for X_batch, _ in test_loader:\n",
    "        y_pred = model(X_batch).squeeze()\n",
    "        y_pred_list.extend(y_pred)\n",
    "\n",
    "# Convert predictions to binary labels\n",
    "y_pred_binary = [1 if prob > 0.5 else 0 for prob in y_pred_list]\n",
    "\n",
    "# Print Classification Report\n",
    "print(\"Classification Report:\")\n",
    "print(classification_report(yTest, y_pred_binary))\n",
    "print(f\"Accuracy: {accuracy_score(yTest, y_pred_binary):.2f}\")"
   ]
  },
  {
   "cell_type": "code",
   "execution_count": 137,
   "metadata": {},
   "outputs": [
    {
     "data": {
      "image/png": "[encoded data removed]",
      "text/plain": [
       "<Figure size 1200x500 with 1 Axes>"
      ]
     },
     "metadata": {},
     "output_type": "display_data"
    }
   ],
   "source": [
    "import matplotlib.pyplot as plt\n",
    "plt.figure(figsize=(12, 5))\n",
    "\n",
    "plt.subplot(1, 2, 1)\n",
    "plt.plot(range(1, num_epochs + 1), loss_per_epoch, marker='o', label='BCELoss')\n",
    "plt.xlabel('Epoch')\n",
    "plt.ylabel('Loss')\n",
    "plt.title('BCELoss per Epoch')\n",
    "plt.legend()\n",
    "plt.grid()\n",
    "\n",
    "\n",
    "#Show plot\n",
    "plt.tight_layout()\n",
    "plt.show()"
   ]
  },
  {
   "cell_type": "code",
   "execution_count": 138,
   "metadata": {},
   "outputs": [
    {
     "data": {
      "image/png": "[encoded data removed]",
      "text/plain": [
       "<Figure size 1200x500 with 1 Axes>"
      ]
     },
     "metadata": {},
     "output_type": "display_data"
    }
   ],
   "source": [
    "plt.figure(figsize=(12, 5))\n",
    "\n",
    "plt.subplot(1, 2, 2)\n",
    "plt.plot(range(1, num_epochs + 1), accuracy_per_epoch, marker='o', color='orange', label='Accuracy')\n",
    "plt.xlabel('Epoch')\n",
    "plt.ylabel('Accuracy')\n",
    "plt.title('Accuracy per Epoch')\n",
    "plt.legend()\n",
    "plt.grid()\n",
    "\n",
    "\n",
    "#Show plot\n",
    "plt.tight_layout()\n",
    "plt.show()"
   ]
  }
 ],
 "metadata": {
  "kernelspec": {
   "display_name": "base",
   "language": "python",
   "name": "python3"
  },
  "language_info": {
   "codemirror_mode": {
    "name": "ipython",
    "version": 3
   },
   "file_extension": ".py",
   "mimetype": "text/x-python",
   "name": "python",
   "nbconvert_exporter": "python",
   "pygments_lexer": "ipython3",
   "version": "3.9.13"
  }
 },
 "nbformat": 4,
 "nbformat_minor": 2
}
